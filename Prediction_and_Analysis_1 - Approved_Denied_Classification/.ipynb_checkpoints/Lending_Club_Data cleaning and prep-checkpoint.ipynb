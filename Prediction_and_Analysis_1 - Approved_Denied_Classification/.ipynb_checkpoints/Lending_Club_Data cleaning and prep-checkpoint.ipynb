{
 "cells": [
  {
   "cell_type": "code",
   "execution_count": 1,
   "metadata": {},
   "outputs": [],
   "source": [
    "import re\n",
    "import os\n",
    "\n",
    "import pandas as pd\n",
    "import numpy as np\n",
    "import seaborn as sns\n",
    "import matplotlib.pyplot as plt\n",
    "import datetime as dt"
   ]
  },
  {
   "cell_type": "markdown",
   "metadata": {},
   "source": [
    "# Uploading Data"
   ]
  },
  {
   "cell_type": "code",
   "execution_count": 2,
   "metadata": {},
   "outputs": [],
   "source": [
    "# File Paths Documents/Final Project/archive/Data\n",
    "accepted_filepath = \"../../archive/Data/accepted_2007_to_2018Q4.csv\"\n",
    "rejected_filepath = \"../../archive/Data/rejected_2007_to_2018Q4.csv\""
   ]
  },
  {
   "cell_type": "code",
   "execution_count": 3,
   "metadata": {},
   "outputs": [],
   "source": [
    "# reading in csv and converting to dataframes\n",
    "accepted_df = pd.read_csv(accepted_filepath, error_bad_lines=False,low_memory=False)\n",
    "rejected_df = pd.read_csv(rejected_filepath, error_bad_lines=False,low_memory=False)"
   ]
  },
  {
   "cell_type": "code",
   "execution_count": 4,
   "metadata": {
    "scrolled": true,
    "tags": []
   },
   "outputs": [
    {
     "data": {
      "text/plain": [
       "['id',\n",
       " 'member_id',\n",
       " 'loan_amnt',\n",
       " 'funded_amnt',\n",
       " 'funded_amnt_inv',\n",
       " 'term',\n",
       " 'int_rate',\n",
       " 'installment',\n",
       " 'grade',\n",
       " 'sub_grade',\n",
       " 'emp_title',\n",
       " 'emp_length',\n",
       " 'home_ownership',\n",
       " 'annual_inc',\n",
       " 'verification_status',\n",
       " 'issue_d',\n",
       " 'loan_status',\n",
       " 'pymnt_plan',\n",
       " 'url',\n",
       " 'desc',\n",
       " 'purpose',\n",
       " 'title',\n",
       " 'zip_code',\n",
       " 'addr_state',\n",
       " 'dti',\n",
       " 'delinq_2yrs',\n",
       " 'earliest_cr_line',\n",
       " 'fico_range_low',\n",
       " 'fico_range_high',\n",
       " 'inq_last_6mths',\n",
       " 'mths_since_last_delinq',\n",
       " 'mths_since_last_record',\n",
       " 'open_acc',\n",
       " 'pub_rec',\n",
       " 'revol_bal',\n",
       " 'revol_util',\n",
       " 'total_acc',\n",
       " 'initial_list_status',\n",
       " 'out_prncp',\n",
       " 'out_prncp_inv',\n",
       " 'total_pymnt',\n",
       " 'total_pymnt_inv',\n",
       " 'total_rec_prncp',\n",
       " 'total_rec_int',\n",
       " 'total_rec_late_fee',\n",
       " 'recoveries',\n",
       " 'collection_recovery_fee',\n",
       " 'last_pymnt_d',\n",
       " 'last_pymnt_amnt',\n",
       " 'next_pymnt_d',\n",
       " 'last_credit_pull_d',\n",
       " 'last_fico_range_high',\n",
       " 'last_fico_range_low',\n",
       " 'collections_12_mths_ex_med',\n",
       " 'mths_since_last_major_derog',\n",
       " 'policy_code',\n",
       " 'application_type',\n",
       " 'annual_inc_joint',\n",
       " 'dti_joint',\n",
       " 'verification_status_joint',\n",
       " 'acc_now_delinq',\n",
       " 'tot_coll_amt',\n",
       " 'tot_cur_bal',\n",
       " 'open_acc_6m',\n",
       " 'open_act_il',\n",
       " 'open_il_12m',\n",
       " 'open_il_24m',\n",
       " 'mths_since_rcnt_il',\n",
       " 'total_bal_il',\n",
       " 'il_util',\n",
       " 'open_rv_12m',\n",
       " 'open_rv_24m',\n",
       " 'max_bal_bc',\n",
       " 'all_util',\n",
       " 'total_rev_hi_lim',\n",
       " 'inq_fi',\n",
       " 'total_cu_tl',\n",
       " 'inq_last_12m',\n",
       " 'acc_open_past_24mths',\n",
       " 'avg_cur_bal',\n",
       " 'bc_open_to_buy',\n",
       " 'bc_util',\n",
       " 'chargeoff_within_12_mths',\n",
       " 'delinq_amnt',\n",
       " 'mo_sin_old_il_acct',\n",
       " 'mo_sin_old_rev_tl_op',\n",
       " 'mo_sin_rcnt_rev_tl_op',\n",
       " 'mo_sin_rcnt_tl',\n",
       " 'mort_acc',\n",
       " 'mths_since_recent_bc',\n",
       " 'mths_since_recent_bc_dlq',\n",
       " 'mths_since_recent_inq',\n",
       " 'mths_since_recent_revol_delinq',\n",
       " 'num_accts_ever_120_pd',\n",
       " 'num_actv_bc_tl',\n",
       " 'num_actv_rev_tl',\n",
       " 'num_bc_sats',\n",
       " 'num_bc_tl',\n",
       " 'num_il_tl',\n",
       " 'num_op_rev_tl',\n",
       " 'num_rev_accts',\n",
       " 'num_rev_tl_bal_gt_0',\n",
       " 'num_sats',\n",
       " 'num_tl_120dpd_2m',\n",
       " 'num_tl_30dpd',\n",
       " 'num_tl_90g_dpd_24m',\n",
       " 'num_tl_op_past_12m',\n",
       " 'pct_tl_nvr_dlq',\n",
       " 'percent_bc_gt_75',\n",
       " 'pub_rec_bankruptcies',\n",
       " 'tax_liens',\n",
       " 'tot_hi_cred_lim',\n",
       " 'total_bal_ex_mort',\n",
       " 'total_bc_limit',\n",
       " 'total_il_high_credit_limit',\n",
       " 'revol_bal_joint',\n",
       " 'sec_app_fico_range_low',\n",
       " 'sec_app_fico_range_high',\n",
       " 'sec_app_earliest_cr_line',\n",
       " 'sec_app_inq_last_6mths',\n",
       " 'sec_app_mort_acc',\n",
       " 'sec_app_open_acc',\n",
       " 'sec_app_revol_util',\n",
       " 'sec_app_open_act_il',\n",
       " 'sec_app_num_rev_accts',\n",
       " 'sec_app_chargeoff_within_12_mths',\n",
       " 'sec_app_collections_12_mths_ex_med',\n",
       " 'sec_app_mths_since_last_major_derog',\n",
       " 'hardship_flag',\n",
       " 'hardship_type',\n",
       " 'hardship_reason',\n",
       " 'hardship_status',\n",
       " 'deferral_term',\n",
       " 'hardship_amount',\n",
       " 'hardship_start_date',\n",
       " 'hardship_end_date',\n",
       " 'payment_plan_start_date',\n",
       " 'hardship_length',\n",
       " 'hardship_dpd',\n",
       " 'hardship_loan_status',\n",
       " 'orig_projected_additional_accrued_interest',\n",
       " 'hardship_payoff_balance_amount',\n",
       " 'hardship_last_payment_amount',\n",
       " 'disbursement_method',\n",
       " 'debt_settlement_flag',\n",
       " 'debt_settlement_flag_date',\n",
       " 'settlement_status',\n",
       " 'settlement_date',\n",
       " 'settlement_amount',\n",
       " 'settlement_percentage',\n",
       " 'settlement_term']"
      ]
     },
     "execution_count": 4,
     "metadata": {},
     "output_type": "execute_result"
    }
   ],
   "source": [
    "list(accepted_df)"
   ]
  },
  {
   "cell_type": "code",
   "execution_count": 5,
   "metadata": {},
   "outputs": [
    {
     "data": {
      "text/plain": [
       "['Amount Requested',\n",
       " 'Application Date',\n",
       " 'Loan Title',\n",
       " 'Risk_Score',\n",
       " 'Debt-To-Income Ratio',\n",
       " 'Zip Code',\n",
       " 'State',\n",
       " 'Employment Length',\n",
       " 'Policy Code']"
      ]
     },
     "execution_count": 5,
     "metadata": {},
     "output_type": "execute_result"
    }
   ],
   "source": [
    "list(rejected_df)"
   ]
  },
  {
   "cell_type": "code",
   "execution_count": 6,
   "metadata": {
    "tags": []
   },
   "outputs": [
    {
     "name": "stdout",
     "output_type": "stream",
     "text": [
      "['Wedding Covered but No Honeymoon' 'Consolidating Debt'\n",
      " 'Want to consolidate my debt' ... 'dougie03' 'freeup'\n",
      " 'Business Advertising Loan']\n",
      "-------------------\n",
      "['debt_consolidation' 'small_business' 'home_improvement' 'major_purchase'\n",
      " 'credit_card' 'other' 'house' 'vacation' 'car' 'medical' 'moving'\n",
      " 'renewable_energy' 'wedding' 'educational' nan]\n",
      "-------------------\n",
      "['Debt consolidation' 'Business' nan ... 'takeitaway' 'Creditt Card Loan'\n",
      " 'debt reduction/hone updates']\n"
     ]
    }
   ],
   "source": [
    "print(rejected_df['Loan Title'].unique())\n",
    "print('-------------------')\n",
    "print(accepted_df['purpose'].unique())\n",
    "print('-------------------')\n",
    "print(accepted_df['title'].unique())"
   ]
  },
  {
   "cell_type": "markdown",
   "metadata": {},
   "source": [
    "## Trimming data for Model 1"
   ]
  },
  {
   "cell_type": "markdown",
   "metadata": {},
   "source": [
    "Model 1 - Classification Model - Combining matching columns of Accepted and Rejected Data - Use that to train a model that can predict Acceptance/Rejection. "
   ]
  },
  {
   "cell_type": "code",
   "execution_count": 7,
   "metadata": {},
   "outputs": [],
   "source": [
    "# select Needed columns\n",
    "trim_accept_df = accepted_df[[\n",
    "    'loan_amnt',\n",
    "    'issue_d',\n",
    "    'fico_range_high',\n",
    "    'dti',\n",
    "    'zip_code',\n",
    "    'addr_state',\n",
    "    'emp_length',\n",
    "    'purpose'\n",
    "]]"
   ]
  },
  {
   "cell_type": "code",
   "execution_count": 8,
   "metadata": {},
   "outputs": [],
   "source": [
    "# select Needed columns\n",
    "trim_reject_df = rejected_df[['Amount Requested',\n",
    " 'Application Date',\n",
    " 'Risk_Score',\n",
    " 'Debt-To-Income Ratio',\n",
    " 'Zip Code',\n",
    " 'State',\n",
    " 'Employment Length',\n",
    " 'Loan Title']]"
   ]
  },
  {
   "cell_type": "code",
   "execution_count": 9,
   "metadata": {},
   "outputs": [
    {
     "data": {
      "text/plain": [
       "(2260701, 8)"
      ]
     },
     "execution_count": 9,
     "metadata": {},
     "output_type": "execute_result"
    }
   ],
   "source": [
    "trim_accept_df.shape"
   ]
  },
  {
   "cell_type": "code",
   "execution_count": 10,
   "metadata": {},
   "outputs": [
    {
     "data": {
      "text/plain": [
       "(27648741, 8)"
      ]
     },
     "execution_count": 10,
     "metadata": {},
     "output_type": "execute_result"
    }
   ],
   "source": [
    "trim_reject_df.shape"
   ]
  },
  {
   "cell_type": "code",
   "execution_count": 11,
   "metadata": {},
   "outputs": [
    {
     "name": "stderr",
     "output_type": "stream",
     "text": [
      "<ipython-input-11-2453f05da964>:2: SettingWithCopyWarning: \n",
      "A value is trying to be set on a copy of a slice from a DataFrame.\n",
      "Try using .loc[row_indexer,col_indexer] = value instead\n",
      "\n",
      "See the caveats in the documentation: https://pandas.pydata.org/pandas-docs/stable/user_guide/indexing.html#returning-a-view-versus-a-copy\n",
      "  trim_accept_df['Loan Status'] = \"Accepted\"\n"
     ]
    },
    {
     "data": {
      "text/html": [
       "<div>\n",
       "<style scoped>\n",
       "    .dataframe tbody tr th:only-of-type {\n",
       "        vertical-align: middle;\n",
       "    }\n",
       "\n",
       "    .dataframe tbody tr th {\n",
       "        vertical-align: top;\n",
       "    }\n",
       "\n",
       "    .dataframe thead th {\n",
       "        text-align: right;\n",
       "    }\n",
       "</style>\n",
       "<table border=\"1\" class=\"dataframe\">\n",
       "  <thead>\n",
       "    <tr style=\"text-align: right;\">\n",
       "      <th></th>\n",
       "      <th>loan_amnt</th>\n",
       "      <th>issue_d</th>\n",
       "      <th>fico_range_high</th>\n",
       "      <th>dti</th>\n",
       "      <th>zip_code</th>\n",
       "      <th>addr_state</th>\n",
       "      <th>emp_length</th>\n",
       "      <th>purpose</th>\n",
       "      <th>Loan Status</th>\n",
       "    </tr>\n",
       "  </thead>\n",
       "  <tbody>\n",
       "    <tr>\n",
       "      <th>0</th>\n",
       "      <td>3600.0</td>\n",
       "      <td>Dec-2015</td>\n",
       "      <td>679.0</td>\n",
       "      <td>5.91</td>\n",
       "      <td>190xx</td>\n",
       "      <td>PA</td>\n",
       "      <td>10+ years</td>\n",
       "      <td>debt_consolidation</td>\n",
       "      <td>Accepted</td>\n",
       "    </tr>\n",
       "    <tr>\n",
       "      <th>1</th>\n",
       "      <td>24700.0</td>\n",
       "      <td>Dec-2015</td>\n",
       "      <td>719.0</td>\n",
       "      <td>16.06</td>\n",
       "      <td>577xx</td>\n",
       "      <td>SD</td>\n",
       "      <td>10+ years</td>\n",
       "      <td>small_business</td>\n",
       "      <td>Accepted</td>\n",
       "    </tr>\n",
       "    <tr>\n",
       "      <th>2</th>\n",
       "      <td>20000.0</td>\n",
       "      <td>Dec-2015</td>\n",
       "      <td>699.0</td>\n",
       "      <td>10.78</td>\n",
       "      <td>605xx</td>\n",
       "      <td>IL</td>\n",
       "      <td>10+ years</td>\n",
       "      <td>home_improvement</td>\n",
       "      <td>Accepted</td>\n",
       "    </tr>\n",
       "    <tr>\n",
       "      <th>3</th>\n",
       "      <td>35000.0</td>\n",
       "      <td>Dec-2015</td>\n",
       "      <td>789.0</td>\n",
       "      <td>17.06</td>\n",
       "      <td>076xx</td>\n",
       "      <td>NJ</td>\n",
       "      <td>10+ years</td>\n",
       "      <td>debt_consolidation</td>\n",
       "      <td>Accepted</td>\n",
       "    </tr>\n",
       "    <tr>\n",
       "      <th>4</th>\n",
       "      <td>10400.0</td>\n",
       "      <td>Dec-2015</td>\n",
       "      <td>699.0</td>\n",
       "      <td>25.37</td>\n",
       "      <td>174xx</td>\n",
       "      <td>PA</td>\n",
       "      <td>3 years</td>\n",
       "      <td>major_purchase</td>\n",
       "      <td>Accepted</td>\n",
       "    </tr>\n",
       "  </tbody>\n",
       "</table>\n",
       "</div>"
      ],
      "text/plain": [
       "   loan_amnt   issue_d  fico_range_high    dti zip_code addr_state emp_length  \\\n",
       "0     3600.0  Dec-2015            679.0   5.91    190xx         PA  10+ years   \n",
       "1    24700.0  Dec-2015            719.0  16.06    577xx         SD  10+ years   \n",
       "2    20000.0  Dec-2015            699.0  10.78    605xx         IL  10+ years   \n",
       "3    35000.0  Dec-2015            789.0  17.06    076xx         NJ  10+ years   \n",
       "4    10400.0  Dec-2015            699.0  25.37    174xx         PA    3 years   \n",
       "\n",
       "              purpose Loan Status  \n",
       "0  debt_consolidation    Accepted  \n",
       "1      small_business    Accepted  \n",
       "2    home_improvement    Accepted  \n",
       "3  debt_consolidation    Accepted  \n",
       "4      major_purchase    Accepted  "
      ]
     },
     "execution_count": 11,
     "metadata": {},
     "output_type": "execute_result"
    }
   ],
   "source": [
    "# adding a target value to the data\n",
    "trim_accept_df['Loan Status'] = \"Accepted\"\n",
    "trim_accept_df.head()"
   ]
  },
  {
   "cell_type": "code",
   "execution_count": 12,
   "metadata": {},
   "outputs": [
    {
     "data": {
      "text/html": [
       "<div>\n",
       "<style scoped>\n",
       "    .dataframe tbody tr th:only-of-type {\n",
       "        vertical-align: middle;\n",
       "    }\n",
       "\n",
       "    .dataframe tbody tr th {\n",
       "        vertical-align: top;\n",
       "    }\n",
       "\n",
       "    .dataframe thead th {\n",
       "        text-align: right;\n",
       "    }\n",
       "</style>\n",
       "<table border=\"1\" class=\"dataframe\">\n",
       "  <thead>\n",
       "    <tr style=\"text-align: right;\">\n",
       "      <th></th>\n",
       "      <th>Amount Requested</th>\n",
       "      <th>Application Date</th>\n",
       "      <th>Risk_Score</th>\n",
       "      <th>Debt-To-Income Ratio</th>\n",
       "      <th>Zip Code</th>\n",
       "      <th>State</th>\n",
       "      <th>Employment Length</th>\n",
       "      <th>Loan Title</th>\n",
       "      <th>Loan Status</th>\n",
       "    </tr>\n",
       "  </thead>\n",
       "  <tbody>\n",
       "    <tr>\n",
       "      <th>0</th>\n",
       "      <td>1000.0</td>\n",
       "      <td>2007-05-26</td>\n",
       "      <td>693.0</td>\n",
       "      <td>10%</td>\n",
       "      <td>481xx</td>\n",
       "      <td>NM</td>\n",
       "      <td>4 years</td>\n",
       "      <td>Wedding Covered but No Honeymoon</td>\n",
       "      <td>Rejected</td>\n",
       "    </tr>\n",
       "    <tr>\n",
       "      <th>1</th>\n",
       "      <td>1000.0</td>\n",
       "      <td>2007-05-26</td>\n",
       "      <td>703.0</td>\n",
       "      <td>10%</td>\n",
       "      <td>010xx</td>\n",
       "      <td>MA</td>\n",
       "      <td>&lt; 1 year</td>\n",
       "      <td>Consolidating Debt</td>\n",
       "      <td>Rejected</td>\n",
       "    </tr>\n",
       "    <tr>\n",
       "      <th>2</th>\n",
       "      <td>11000.0</td>\n",
       "      <td>2007-05-27</td>\n",
       "      <td>715.0</td>\n",
       "      <td>10%</td>\n",
       "      <td>212xx</td>\n",
       "      <td>MD</td>\n",
       "      <td>1 year</td>\n",
       "      <td>Want to consolidate my debt</td>\n",
       "      <td>Rejected</td>\n",
       "    </tr>\n",
       "    <tr>\n",
       "      <th>3</th>\n",
       "      <td>6000.0</td>\n",
       "      <td>2007-05-27</td>\n",
       "      <td>698.0</td>\n",
       "      <td>38.64%</td>\n",
       "      <td>017xx</td>\n",
       "      <td>MA</td>\n",
       "      <td>&lt; 1 year</td>\n",
       "      <td>waksman</td>\n",
       "      <td>Rejected</td>\n",
       "    </tr>\n",
       "    <tr>\n",
       "      <th>4</th>\n",
       "      <td>1500.0</td>\n",
       "      <td>2007-05-27</td>\n",
       "      <td>509.0</td>\n",
       "      <td>9.43%</td>\n",
       "      <td>209xx</td>\n",
       "      <td>MD</td>\n",
       "      <td>&lt; 1 year</td>\n",
       "      <td>mdrigo</td>\n",
       "      <td>Rejected</td>\n",
       "    </tr>\n",
       "  </tbody>\n",
       "</table>\n",
       "</div>"
      ],
      "text/plain": [
       "   Amount Requested Application Date  Risk_Score Debt-To-Income Ratio  \\\n",
       "0            1000.0       2007-05-26       693.0                  10%   \n",
       "1            1000.0       2007-05-26       703.0                  10%   \n",
       "2           11000.0       2007-05-27       715.0                  10%   \n",
       "3            6000.0       2007-05-27       698.0               38.64%   \n",
       "4            1500.0       2007-05-27       509.0                9.43%   \n",
       "\n",
       "  Zip Code State Employment Length                        Loan Title  \\\n",
       "0    481xx    NM           4 years  Wedding Covered but No Honeymoon   \n",
       "1    010xx    MA          < 1 year                Consolidating Debt   \n",
       "2    212xx    MD            1 year       Want to consolidate my debt   \n",
       "3    017xx    MA          < 1 year                           waksman   \n",
       "4    209xx    MD          < 1 year                            mdrigo   \n",
       "\n",
       "  Loan Status  \n",
       "0    Rejected  \n",
       "1    Rejected  \n",
       "2    Rejected  \n",
       "3    Rejected  \n",
       "4    Rejected  "
      ]
     },
     "execution_count": 12,
     "metadata": {},
     "output_type": "execute_result"
    }
   ],
   "source": [
    "# adding a target value to the data\n",
    "trim_reject_df['Loan Status'] = \"Rejected\"\n",
    "trim_reject_df.head()"
   ]
  },
  {
   "cell_type": "markdown",
   "metadata": {},
   "source": [
    "### More clean up and writing to CSV - to be used for Model 1 (get team's opinion on whether we'll need more variables)"
   ]
  },
  {
   "cell_type": "code",
   "execution_count": 13,
   "metadata": {},
   "outputs": [
    {
     "name": "stdout",
     "output_type": "stream",
     "text": [
      "<class 'pandas.core.frame.DataFrame'>\n",
      "RangeIndex: 27648741 entries, 0 to 27648740\n",
      "Data columns (total 9 columns):\n",
      " #   Column                Dtype  \n",
      "---  ------                -----  \n",
      " 0   Amount Requested      float64\n",
      " 1   Application Date      object \n",
      " 2   Risk_Score            float64\n",
      " 3   Debt-To-Income Ratio  object \n",
      " 4   Zip Code              object \n",
      " 5   State                 object \n",
      " 6   Employment Length     object \n",
      " 7   Loan Title            object \n",
      " 8   Loan Status           object \n",
      "dtypes: float64(2), object(7)\n",
      "memory usage: 1.9+ GB\n",
      "None\n",
      "<class 'pandas.core.frame.DataFrame'>\n",
      "RangeIndex: 2260701 entries, 0 to 2260700\n",
      "Data columns (total 9 columns):\n",
      " #   Column           Dtype  \n",
      "---  ------           -----  \n",
      " 0   loan_amnt        float64\n",
      " 1   issue_d          object \n",
      " 2   fico_range_high  float64\n",
      " 3   dti              float64\n",
      " 4   zip_code         object \n",
      " 5   addr_state       object \n",
      " 6   emp_length       object \n",
      " 7   purpose          object \n",
      " 8   Loan Status      object \n",
      "dtypes: float64(3), object(6)\n",
      "memory usage: 155.2+ MB\n",
      "None\n"
     ]
    }
   ],
   "source": [
    "print(trim_reject_df.info())\n",
    "print(trim_accept_df.info())"
   ]
  },
  {
   "cell_type": "code",
   "execution_count": 14,
   "metadata": {},
   "outputs": [
    {
     "name": "stderr",
     "output_type": "stream",
     "text": [
      "<ipython-input-14-18afbc794ff2>:2: SettingWithCopyWarning: \n",
      "A value is trying to be set on a copy of a slice from a DataFrame.\n",
      "Try using .loc[row_indexer,col_indexer] = value instead\n",
      "\n",
      "See the caveats in the documentation: https://pandas.pydata.org/pandas-docs/stable/user_guide/indexing.html#returning-a-view-versus-a-copy\n",
      "  trim_accept_df['issue_d'] = pd.to_datetime(trim_accept_df['issue_d'])\n"
     ]
    },
    {
     "data": {
      "text/html": [
       "<div>\n",
       "<style scoped>\n",
       "    .dataframe tbody tr th:only-of-type {\n",
       "        vertical-align: middle;\n",
       "    }\n",
       "\n",
       "    .dataframe tbody tr th {\n",
       "        vertical-align: top;\n",
       "    }\n",
       "\n",
       "    .dataframe thead th {\n",
       "        text-align: right;\n",
       "    }\n",
       "</style>\n",
       "<table border=\"1\" class=\"dataframe\">\n",
       "  <thead>\n",
       "    <tr style=\"text-align: right;\">\n",
       "      <th></th>\n",
       "      <th>loan_amnt</th>\n",
       "      <th>issue_d</th>\n",
       "      <th>fico_range_high</th>\n",
       "      <th>dti</th>\n",
       "      <th>zip_code</th>\n",
       "      <th>addr_state</th>\n",
       "      <th>emp_length</th>\n",
       "      <th>purpose</th>\n",
       "      <th>Loan Status</th>\n",
       "    </tr>\n",
       "  </thead>\n",
       "  <tbody>\n",
       "    <tr>\n",
       "      <th>0</th>\n",
       "      <td>3600.0</td>\n",
       "      <td>2015-12-01</td>\n",
       "      <td>679.0</td>\n",
       "      <td>5.91</td>\n",
       "      <td>190xx</td>\n",
       "      <td>PA</td>\n",
       "      <td>10+ years</td>\n",
       "      <td>debt_consolidation</td>\n",
       "      <td>Accepted</td>\n",
       "    </tr>\n",
       "    <tr>\n",
       "      <th>1</th>\n",
       "      <td>24700.0</td>\n",
       "      <td>2015-12-01</td>\n",
       "      <td>719.0</td>\n",
       "      <td>16.06</td>\n",
       "      <td>577xx</td>\n",
       "      <td>SD</td>\n",
       "      <td>10+ years</td>\n",
       "      <td>small_business</td>\n",
       "      <td>Accepted</td>\n",
       "    </tr>\n",
       "    <tr>\n",
       "      <th>2</th>\n",
       "      <td>20000.0</td>\n",
       "      <td>2015-12-01</td>\n",
       "      <td>699.0</td>\n",
       "      <td>10.78</td>\n",
       "      <td>605xx</td>\n",
       "      <td>IL</td>\n",
       "      <td>10+ years</td>\n",
       "      <td>home_improvement</td>\n",
       "      <td>Accepted</td>\n",
       "    </tr>\n",
       "    <tr>\n",
       "      <th>3</th>\n",
       "      <td>35000.0</td>\n",
       "      <td>2015-12-01</td>\n",
       "      <td>789.0</td>\n",
       "      <td>17.06</td>\n",
       "      <td>076xx</td>\n",
       "      <td>NJ</td>\n",
       "      <td>10+ years</td>\n",
       "      <td>debt_consolidation</td>\n",
       "      <td>Accepted</td>\n",
       "    </tr>\n",
       "    <tr>\n",
       "      <th>4</th>\n",
       "      <td>10400.0</td>\n",
       "      <td>2015-12-01</td>\n",
       "      <td>699.0</td>\n",
       "      <td>25.37</td>\n",
       "      <td>174xx</td>\n",
       "      <td>PA</td>\n",
       "      <td>3 years</td>\n",
       "      <td>major_purchase</td>\n",
       "      <td>Accepted</td>\n",
       "    </tr>\n",
       "  </tbody>\n",
       "</table>\n",
       "</div>"
      ],
      "text/plain": [
       "   loan_amnt    issue_d  fico_range_high    dti zip_code addr_state  \\\n",
       "0     3600.0 2015-12-01            679.0   5.91    190xx         PA   \n",
       "1    24700.0 2015-12-01            719.0  16.06    577xx         SD   \n",
       "2    20000.0 2015-12-01            699.0  10.78    605xx         IL   \n",
       "3    35000.0 2015-12-01            789.0  17.06    076xx         NJ   \n",
       "4    10400.0 2015-12-01            699.0  25.37    174xx         PA   \n",
       "\n",
       "  emp_length             purpose Loan Status  \n",
       "0  10+ years  debt_consolidation    Accepted  \n",
       "1  10+ years      small_business    Accepted  \n",
       "2  10+ years    home_improvement    Accepted  \n",
       "3  10+ years  debt_consolidation    Accepted  \n",
       "4    3 years      major_purchase    Accepted  "
      ]
     },
     "execution_count": 14,
     "metadata": {},
     "output_type": "execute_result"
    }
   ],
   "source": [
    "# recast accepted issue date as date\n",
    "trim_accept_df['issue_d'] = pd.to_datetime(trim_accept_df['issue_d'])\n",
    "trim_accept_df.head()"
   ]
  },
  {
   "cell_type": "markdown",
   "metadata": {},
   "source": [
    "#### this is where we can decide what year(s) to focus on"
   ]
  },
  {
   "cell_type": "code",
   "execution_count": 15,
   "metadata": {},
   "outputs": [],
   "source": [
    "# filter for 2 years? Can do more if needed\n",
    "accept_filtered_df = trim_accept_df[trim_accept_df['issue_d'].dt.year == 2018]"
   ]
  },
  {
   "cell_type": "code",
   "execution_count": 16,
   "metadata": {},
   "outputs": [
    {
     "data": {
      "text/plain": [
       "array([2018], dtype=int64)"
      ]
     },
     "execution_count": 16,
     "metadata": {},
     "output_type": "execute_result"
    }
   ],
   "source": [
    "# verify\n",
    "accept_filtered_df['issue_d'].dt.year.unique()"
   ]
  },
  {
   "cell_type": "code",
   "execution_count": 17,
   "metadata": {},
   "outputs": [
    {
     "data": {
      "text/html": [
       "<div>\n",
       "<style scoped>\n",
       "    .dataframe tbody tr th:only-of-type {\n",
       "        vertical-align: middle;\n",
       "    }\n",
       "\n",
       "    .dataframe tbody tr th {\n",
       "        vertical-align: top;\n",
       "    }\n",
       "\n",
       "    .dataframe thead th {\n",
       "        text-align: right;\n",
       "    }\n",
       "</style>\n",
       "<table border=\"1\" class=\"dataframe\">\n",
       "  <thead>\n",
       "    <tr style=\"text-align: right;\">\n",
       "      <th></th>\n",
       "      <th>Amount Requested</th>\n",
       "      <th>Application Date</th>\n",
       "      <th>Risk_Score</th>\n",
       "      <th>Debt-To-Income Ratio</th>\n",
       "      <th>Zip Code</th>\n",
       "      <th>State</th>\n",
       "      <th>Employment Length</th>\n",
       "      <th>Loan Title</th>\n",
       "      <th>Loan Status</th>\n",
       "    </tr>\n",
       "  </thead>\n",
       "  <tbody>\n",
       "    <tr>\n",
       "      <th>0</th>\n",
       "      <td>1000.0</td>\n",
       "      <td>2007-05-26</td>\n",
       "      <td>693.0</td>\n",
       "      <td>10%</td>\n",
       "      <td>481xx</td>\n",
       "      <td>NM</td>\n",
       "      <td>4 years</td>\n",
       "      <td>Wedding Covered but No Honeymoon</td>\n",
       "      <td>Rejected</td>\n",
       "    </tr>\n",
       "    <tr>\n",
       "      <th>1</th>\n",
       "      <td>1000.0</td>\n",
       "      <td>2007-05-26</td>\n",
       "      <td>703.0</td>\n",
       "      <td>10%</td>\n",
       "      <td>010xx</td>\n",
       "      <td>MA</td>\n",
       "      <td>&lt; 1 year</td>\n",
       "      <td>Consolidating Debt</td>\n",
       "      <td>Rejected</td>\n",
       "    </tr>\n",
       "    <tr>\n",
       "      <th>2</th>\n",
       "      <td>11000.0</td>\n",
       "      <td>2007-05-27</td>\n",
       "      <td>715.0</td>\n",
       "      <td>10%</td>\n",
       "      <td>212xx</td>\n",
       "      <td>MD</td>\n",
       "      <td>1 year</td>\n",
       "      <td>Want to consolidate my debt</td>\n",
       "      <td>Rejected</td>\n",
       "    </tr>\n",
       "    <tr>\n",
       "      <th>3</th>\n",
       "      <td>6000.0</td>\n",
       "      <td>2007-05-27</td>\n",
       "      <td>698.0</td>\n",
       "      <td>38.64%</td>\n",
       "      <td>017xx</td>\n",
       "      <td>MA</td>\n",
       "      <td>&lt; 1 year</td>\n",
       "      <td>waksman</td>\n",
       "      <td>Rejected</td>\n",
       "    </tr>\n",
       "    <tr>\n",
       "      <th>4</th>\n",
       "      <td>1500.0</td>\n",
       "      <td>2007-05-27</td>\n",
       "      <td>509.0</td>\n",
       "      <td>9.43%</td>\n",
       "      <td>209xx</td>\n",
       "      <td>MD</td>\n",
       "      <td>&lt; 1 year</td>\n",
       "      <td>mdrigo</td>\n",
       "      <td>Rejected</td>\n",
       "    </tr>\n",
       "  </tbody>\n",
       "</table>\n",
       "</div>"
      ],
      "text/plain": [
       "   Amount Requested Application Date  Risk_Score Debt-To-Income Ratio  \\\n",
       "0            1000.0       2007-05-26       693.0                  10%   \n",
       "1            1000.0       2007-05-26       703.0                  10%   \n",
       "2           11000.0       2007-05-27       715.0                  10%   \n",
       "3            6000.0       2007-05-27       698.0               38.64%   \n",
       "4            1500.0       2007-05-27       509.0                9.43%   \n",
       "\n",
       "  Zip Code State Employment Length                        Loan Title  \\\n",
       "0    481xx    NM           4 years  Wedding Covered but No Honeymoon   \n",
       "1    010xx    MA          < 1 year                Consolidating Debt   \n",
       "2    212xx    MD            1 year       Want to consolidate my debt   \n",
       "3    017xx    MA          < 1 year                           waksman   \n",
       "4    209xx    MD          < 1 year                            mdrigo   \n",
       "\n",
       "  Loan Status  \n",
       "0    Rejected  \n",
       "1    Rejected  \n",
       "2    Rejected  \n",
       "3    Rejected  \n",
       "4    Rejected  "
      ]
     },
     "execution_count": 17,
     "metadata": {},
     "output_type": "execute_result"
    }
   ],
   "source": [
    "# recast rejected application date as date\n",
    "trim_reject_df['Application Date'] = pd.to_datetime(trim_reject_df['Application Date'])\n",
    "trim_reject_df.head()"
   ]
  },
  {
   "cell_type": "code",
   "execution_count": 18,
   "metadata": {},
   "outputs": [
    {
     "data": {
      "text/plain": [
       "array([2018], dtype=int64)"
      ]
     },
     "execution_count": 18,
     "metadata": {},
     "output_type": "execute_result"
    }
   ],
   "source": [
    "# filter for 2 years? Can do more if needed\n",
    "reject_filtered_df = trim_reject_df[trim_reject_df['Application Date'].dt.year == 2018]\n",
    "reject_filtered_df['Application Date'].dt.year.unique() # verify"
   ]
  },
  {
   "cell_type": "markdown",
   "metadata": {},
   "source": [
    "## Write Model 1 data to CSV"
   ]
  },
  {
   "cell_type": "code",
   "execution_count": 19,
   "metadata": {},
   "outputs": [],
   "source": [
    "# # write to CSV to save space for working model\n",
    "# accept_filtered_df.to_csv('Model_1 - ACC_REJ/acc_df_filtered.csv',index=False)"
   ]
  },
  {
   "cell_type": "code",
   "execution_count": 20,
   "metadata": {},
   "outputs": [],
   "source": [
    "# # write to CSV to save space for working model\n",
    "# reject_filtered_df.to_csv('Model_1 - ACC_REJ/rej_df_filtered.csv',index=False)"
   ]
  },
  {
   "cell_type": "code",
   "execution_count": null,
   "metadata": {},
   "outputs": [],
   "source": []
  },
  {
   "cell_type": "code",
   "execution_count": 21,
   "metadata": {},
   "outputs": [],
   "source": [
    "# Rename acc_df \n",
    "accept_filtered_df = accept_filtered_df.rename(columns={'loan_amnt': 'Amount_Requested',\n",
    "                            'issue_d': 'App_Date',\n",
    "                           'fico_range_high': 'Risk_Score',\n",
    "                           'dti': 'debt_to_income_ratio',\n",
    "                           'addr_state': 'State',\n",
    "                           'emp_length': 'Emp_length',\n",
    "                            'purpose': 'Purpose',\n",
    "                            'Loan Status': 'Loan_Status',\n",
    "                           })"
   ]
  },
  {
   "cell_type": "code",
   "execution_count": 22,
   "metadata": {},
   "outputs": [],
   "source": [
    "# Rename rej_df \n",
    "reject_filtered_df = reject_filtered_df.rename(columns={'Amount Requested': 'Amount_Requested',\n",
    "                            'Application Date': 'App_Date',\n",
    "                           'Risk_Score': 'Risk_Score',\n",
    "                           'Debt-To-Income Ratio': 'debt_to_income_ratio',\n",
    "                           'Zip Code': 'zip_code',\n",
    "                           'Employment Length': 'Emp_length',\n",
    "                            'Loan Title': 'Purpose',\n",
    "                            'Loan Status': 'Loan_Status',\n",
    "                           })"
   ]
  },
  {
   "cell_type": "code",
   "execution_count": 23,
   "metadata": {},
   "outputs": [],
   "source": [
    "# accept_filtered_df.head()"
   ]
  },
  {
   "cell_type": "code",
   "execution_count": 24,
   "metadata": {},
   "outputs": [],
   "source": [
    "# change values in Emp_lenght - to recast as int later\n",
    "accept_filtered_df.loc[(accept_filtered_df.Emp_length == '< 1 year'),'Emp_length' ] = 0\n",
    "accept_filtered_df.loc[(accept_filtered_df.Emp_length == '1 year'),'Emp_length' ] = 1\n",
    "accept_filtered_df.loc[(accept_filtered_df.Emp_length == '2 years'),'Emp_length' ] = 2\n",
    "accept_filtered_df.loc[(accept_filtered_df.Emp_length == '3 years'),'Emp_length' ] = 3\n",
    "accept_filtered_df.loc[(accept_filtered_df.Emp_length == '4 years'),'Emp_length' ] = 4\n",
    "accept_filtered_df.loc[(accept_filtered_df.Emp_length == '5 years'),'Emp_length' ] = 5\n",
    "accept_filtered_df.loc[(accept_filtered_df.Emp_length == '6 years'),'Emp_length' ] = 6\n",
    "accept_filtered_df.loc[(accept_filtered_df.Emp_length == '7 years'),'Emp_length' ] = 7\n",
    "accept_filtered_df.loc[(accept_filtered_df.Emp_length == '8 years'),'Emp_length' ] = 8\n",
    "accept_filtered_df.loc[(accept_filtered_df.Emp_length == '9 years'),'Emp_length' ] = 9\n",
    "accept_filtered_df.loc[(accept_filtered_df.Emp_length == '10+ years'),'Emp_length' ] = 10  # 10 will represent 10+, as a group"
   ]
  },
  {
   "cell_type": "code",
   "execution_count": 25,
   "metadata": {},
   "outputs": [],
   "source": [
    "# change values in Emp_lenght - to recast as int later\n",
    "reject_filtered_df.loc[(reject_filtered_df.Emp_length == '< 1 year'),'Emp_length' ] = 0\n",
    "reject_filtered_df.loc[(reject_filtered_df.Emp_length == '1 year'),'Emp_length' ] = 1\n",
    "reject_filtered_df.loc[(reject_filtered_df.Emp_length == '2 years'),'Emp_length' ] = 2\n",
    "reject_filtered_df.loc[(reject_filtered_df.Emp_length == '3 years'),'Emp_length' ] = 3\n",
    "reject_filtered_df.loc[(reject_filtered_df.Emp_length == '4 years'),'Emp_length' ] = 4\n",
    "reject_filtered_df.loc[(reject_filtered_df.Emp_length == '5 years'),'Emp_length' ] = 5\n",
    "reject_filtered_df.loc[(reject_filtered_df.Emp_length == '6 years'),'Emp_length' ] = 6\n",
    "reject_filtered_df.loc[(reject_filtered_df.Emp_length == '7 years'),'Emp_length' ] = 7\n",
    "reject_filtered_df.loc[(reject_filtered_df.Emp_length == '8 years'),'Emp_length' ] = 8\n",
    "reject_filtered_df.loc[(reject_filtered_df.Emp_length == '9 years'),'Emp_length' ] = 9\n",
    "reject_filtered_df.loc[(reject_filtered_df.Emp_length == '10+ years'),'Emp_length' ] = 10  # 10 will represent 10+, as a group"
   ]
  },
  {
   "cell_type": "code",
   "execution_count": 26,
   "metadata": {},
   "outputs": [
    {
     "name": "stdout",
     "output_type": "stream",
     "text": [
      "[0 nan 2 1 5 9 10 8 3 4 7 6]\n",
      "-------------------------------\n",
      "[8 2 0 10 9 nan 5 4 1 7 3 6]\n"
     ]
    }
   ],
   "source": [
    "print(reject_filtered_df['Emp_length'].unique())\n",
    "print('-------------------------------')\n",
    "print(accept_filtered_df['Emp_length'].unique())"
   ]
  },
  {
   "cell_type": "code",
   "execution_count": 27,
   "metadata": {},
   "outputs": [
    {
     "data": {
      "text/html": [
       "<div>\n",
       "<style scoped>\n",
       "    .dataframe tbody tr th:only-of-type {\n",
       "        vertical-align: middle;\n",
       "    }\n",
       "\n",
       "    .dataframe tbody tr th {\n",
       "        vertical-align: top;\n",
       "    }\n",
       "\n",
       "    .dataframe thead th {\n",
       "        text-align: right;\n",
       "    }\n",
       "</style>\n",
       "<table border=\"1\" class=\"dataframe\">\n",
       "  <thead>\n",
       "    <tr style=\"text-align: right;\">\n",
       "      <th></th>\n",
       "      <th>Amount_Requested</th>\n",
       "      <th>App_Date</th>\n",
       "      <th>Risk_Score</th>\n",
       "      <th>debt_to_income_ratio</th>\n",
       "      <th>zip_code</th>\n",
       "      <th>State</th>\n",
       "      <th>Emp_length</th>\n",
       "      <th>Purpose</th>\n",
       "      <th>Loan_Status</th>\n",
       "    </tr>\n",
       "  </thead>\n",
       "  <tbody>\n",
       "    <tr>\n",
       "      <th>4404427</th>\n",
       "      <td>3000.0</td>\n",
       "      <td>2018-07-01</td>\n",
       "      <td>NaN</td>\n",
       "      <td>100.00</td>\n",
       "      <td>925xx</td>\n",
       "      <td>CA</td>\n",
       "      <td>0</td>\n",
       "      <td>Debt consolidation</td>\n",
       "      <td>Rejected</td>\n",
       "    </tr>\n",
       "    <tr>\n",
       "      <th>4404428</th>\n",
       "      <td>40000.0</td>\n",
       "      <td>2018-07-01</td>\n",
       "      <td>NaN</td>\n",
       "      <td>7.45</td>\n",
       "      <td>335xx</td>\n",
       "      <td>FL</td>\n",
       "      <td>0</td>\n",
       "      <td>Major purchase</td>\n",
       "      <td>Rejected</td>\n",
       "    </tr>\n",
       "    <tr>\n",
       "      <th>4404429</th>\n",
       "      <td>16000.0</td>\n",
       "      <td>2018-07-01</td>\n",
       "      <td>NaN</td>\n",
       "      <td>34.93</td>\n",
       "      <td>156xx</td>\n",
       "      <td>PA</td>\n",
       "      <td>0</td>\n",
       "      <td>Debt consolidation</td>\n",
       "      <td>Rejected</td>\n",
       "    </tr>\n",
       "    <tr>\n",
       "      <th>4404430</th>\n",
       "      <td>40000.0</td>\n",
       "      <td>2018-07-01</td>\n",
       "      <td>NaN</td>\n",
       "      <td>27.87</td>\n",
       "      <td>957xx</td>\n",
       "      <td>CA</td>\n",
       "      <td>0</td>\n",
       "      <td>Debt consolidation</td>\n",
       "      <td>Rejected</td>\n",
       "    </tr>\n",
       "    <tr>\n",
       "      <th>4404431</th>\n",
       "      <td>300000.0</td>\n",
       "      <td>2018-07-01</td>\n",
       "      <td>NaN</td>\n",
       "      <td>-1.00</td>\n",
       "      <td>258xx</td>\n",
       "      <td>TN</td>\n",
       "      <td>0</td>\n",
       "      <td>Business Loan</td>\n",
       "      <td>Rejected</td>\n",
       "    </tr>\n",
       "  </tbody>\n",
       "</table>\n",
       "</div>"
      ],
      "text/plain": [
       "         Amount_Requested   App_Date  Risk_Score  debt_to_income_ratio  \\\n",
       "4404427            3000.0 2018-07-01         NaN                100.00   \n",
       "4404428           40000.0 2018-07-01         NaN                  7.45   \n",
       "4404429           16000.0 2018-07-01         NaN                 34.93   \n",
       "4404430           40000.0 2018-07-01         NaN                 27.87   \n",
       "4404431          300000.0 2018-07-01         NaN                 -1.00   \n",
       "\n",
       "        zip_code State Emp_length             Purpose Loan_Status  \n",
       "4404427    925xx    CA          0  Debt consolidation    Rejected  \n",
       "4404428    335xx    FL          0      Major purchase    Rejected  \n",
       "4404429    156xx    PA          0  Debt consolidation    Rejected  \n",
       "4404430    957xx    CA          0  Debt consolidation    Rejected  \n",
       "4404431    258xx    TN          0       Business Loan    Rejected  "
      ]
     },
     "execution_count": 27,
     "metadata": {},
     "output_type": "execute_result"
    }
   ],
   "source": [
    "# fix DTI in rej_df so it matches DTI in acc_df\n",
    "reject_filtered_df['debt_to_income_ratio'] = pd.to_numeric(reject_filtered_df['debt_to_income_ratio'].astype(str).str[:-1], errors='coerce')\n",
    "reject_filtered_df.head()"
   ]
  },
  {
   "cell_type": "code",
   "execution_count": 28,
   "metadata": {},
   "outputs": [],
   "source": [
    "# final Data to combine - I don't see where zip-code/application-date would be useful \n",
    "# Ideally want to see if the rest of the variables does help in predicting Acceptance/Rejection.\n",
    "\n",
    "final_acc_df = accept_filtered_df.drop(['zip_code','App_Date'], axis = 1).copy()\n",
    "final_rej_df = reject_filtered_df.drop(['zip_code','App_Date'], axis = 1).copy()"
   ]
  },
  {
   "cell_type": "code",
   "execution_count": 29,
   "metadata": {},
   "outputs": [
    {
     "name": "stdout",
     "output_type": "stream",
     "text": [
      "<class 'pandas.core.frame.DataFrame'>\n",
      "Int64Index: 495242 entries, 421097 to 1611876\n",
      "Data columns (total 7 columns):\n",
      " #   Column                Non-Null Count   Dtype  \n",
      "---  ------                --------------   -----  \n",
      " 0   Amount_Requested      495242 non-null  float64\n",
      " 1   Risk_Score            495242 non-null  float64\n",
      " 2   debt_to_income_ratio  494110 non-null  float64\n",
      " 3   State                 495242 non-null  object \n",
      " 4   Emp_length            453255 non-null  object \n",
      " 5   Purpose               495242 non-null  object \n",
      " 6   Loan_Status           495242 non-null  object \n",
      "dtypes: float64(3), object(4)\n",
      "memory usage: 30.2+ MB\n",
      "None\n",
      "-------------------------------\n",
      "<class 'pandas.core.frame.DataFrame'>\n",
      "Int64Index: 9496782 entries, 4404427 to 19699075\n",
      "Data columns (total 7 columns):\n",
      " #   Column                Dtype  \n",
      "---  ------                -----  \n",
      " 0   Amount_Requested      float64\n",
      " 1   Risk_Score            float64\n",
      " 2   debt_to_income_ratio  float64\n",
      " 3   State                 object \n",
      " 4   Emp_length            object \n",
      " 5   Purpose               object \n",
      " 6   Loan_Status           object \n",
      "dtypes: float64(3), object(4)\n",
      "memory usage: 579.6+ MB\n",
      "None\n"
     ]
    }
   ],
   "source": [
    "print(final_acc_df.info())\n",
    "print('-------------------------------')\n",
    "print(final_rej_df.info())"
   ]
  },
  {
   "cell_type": "code",
   "execution_count": 30,
   "metadata": {},
   "outputs": [
    {
     "name": "stdout",
     "output_type": "stream",
     "text": [
      "<class 'pandas.core.frame.DataFrame'>\n",
      "Int64Index: 453176 entries, 421097 to 1611876\n",
      "Data columns (total 7 columns):\n",
      " #   Column                Non-Null Count   Dtype  \n",
      "---  ------                --------------   -----  \n",
      " 0   Amount_Requested      453176 non-null  float64\n",
      " 1   Risk_Score            453176 non-null  float64\n",
      " 2   debt_to_income_ratio  453176 non-null  float64\n",
      " 3   State                 453176 non-null  object \n",
      " 4   Emp_length            453176 non-null  object \n",
      " 5   Purpose               453176 non-null  object \n",
      " 6   Loan_Status           453176 non-null  object \n",
      "dtypes: float64(3), object(4)\n",
      "memory usage: 27.7+ MB\n"
     ]
    }
   ],
   "source": [
    "# Drop Na from acc\n",
    "final_acc_df = final_acc_df.dropna()\n",
    "final_acc_df.info()"
   ]
  },
  {
   "cell_type": "code",
   "execution_count": 31,
   "metadata": {},
   "outputs": [
    {
     "name": "stdout",
     "output_type": "stream",
     "text": [
      "<class 'pandas.core.frame.DataFrame'>\n",
      "Int64Index: 628344 entries, 4404458 to 19699073\n",
      "Data columns (total 7 columns):\n",
      " #   Column                Non-Null Count   Dtype  \n",
      "---  ------                --------------   -----  \n",
      " 0   Amount_Requested      628344 non-null  float64\n",
      " 1   Risk_Score            628344 non-null  float64\n",
      " 2   debt_to_income_ratio  628344 non-null  float64\n",
      " 3   State                 628344 non-null  object \n",
      " 4   Emp_length            628344 non-null  object \n",
      " 5   Purpose               628344 non-null  object \n",
      " 6   Loan_Status           628344 non-null  object \n",
      "dtypes: float64(3), object(4)\n",
      "memory usage: 38.4+ MB\n"
     ]
    }
   ],
   "source": [
    "# Drop Na from rej\n",
    "final_rej_df = final_rej_df.dropna()\n",
    "final_rej_df.info()"
   ]
  },
  {
   "cell_type": "code",
   "execution_count": 32,
   "metadata": {},
   "outputs": [],
   "source": [
    "frames = [final_acc_df, final_rej_df]"
   ]
  },
  {
   "cell_type": "code",
   "execution_count": 33,
   "metadata": {},
   "outputs": [],
   "source": [
    "combined_results = pd.concat(frames)"
   ]
  },
  {
   "cell_type": "code",
   "execution_count": 34,
   "metadata": {},
   "outputs": [
    {
     "data": {
      "text/plain": [
       "421097       8.0\n",
       "421098       2.0\n",
       "421099       0.0\n",
       "421100      10.0\n",
       "421101       9.0\n",
       "            ... \n",
       "19698926     5.0\n",
       "19698936     0.0\n",
       "19698996     0.0\n",
       "19699052     0.0\n",
       "19699073     2.0\n",
       "Name: Emp_length, Length: 1081520, dtype: float64"
      ]
     },
     "execution_count": 34,
     "metadata": {},
     "output_type": "execute_result"
    }
   ],
   "source": [
    "combined_results['Emp_length'].astype(str).astype(float)"
   ]
  },
  {
   "cell_type": "code",
   "execution_count": 35,
   "metadata": {},
   "outputs": [
    {
     "data": {
      "text/html": [
       "<div>\n",
       "<style scoped>\n",
       "    .dataframe tbody tr th:only-of-type {\n",
       "        vertical-align: middle;\n",
       "    }\n",
       "\n",
       "    .dataframe tbody tr th {\n",
       "        vertical-align: top;\n",
       "    }\n",
       "\n",
       "    .dataframe thead th {\n",
       "        text-align: right;\n",
       "    }\n",
       "</style>\n",
       "<table border=\"1\" class=\"dataframe\">\n",
       "  <thead>\n",
       "    <tr style=\"text-align: right;\">\n",
       "      <th></th>\n",
       "      <th>Amount_Requested</th>\n",
       "      <th>Risk_Score</th>\n",
       "      <th>debt_to_income_ratio</th>\n",
       "      <th>State</th>\n",
       "      <th>Emp_length</th>\n",
       "      <th>Purpose</th>\n",
       "      <th>Loan_Status</th>\n",
       "    </tr>\n",
       "  </thead>\n",
       "  <tbody>\n",
       "    <tr>\n",
       "      <th>421097</th>\n",
       "      <td>5000.0</td>\n",
       "      <td>669.0</td>\n",
       "      <td>21.80</td>\n",
       "      <td>OK</td>\n",
       "      <td>8</td>\n",
       "      <td>other</td>\n",
       "      <td>Accepted</td>\n",
       "    </tr>\n",
       "    <tr>\n",
       "      <th>421098</th>\n",
       "      <td>15000.0</td>\n",
       "      <td>704.0</td>\n",
       "      <td>18.29</td>\n",
       "      <td>FL</td>\n",
       "      <td>2</td>\n",
       "      <td>debt_consolidation</td>\n",
       "      <td>Accepted</td>\n",
       "    </tr>\n",
       "    <tr>\n",
       "      <th>421099</th>\n",
       "      <td>11200.0</td>\n",
       "      <td>669.0</td>\n",
       "      <td>43.97</td>\n",
       "      <td>NH</td>\n",
       "      <td>0</td>\n",
       "      <td>medical</td>\n",
       "      <td>Accepted</td>\n",
       "    </tr>\n",
       "    <tr>\n",
       "      <th>421100</th>\n",
       "      <td>25000.0</td>\n",
       "      <td>669.0</td>\n",
       "      <td>12.89</td>\n",
       "      <td>AL</td>\n",
       "      <td>10</td>\n",
       "      <td>debt_consolidation</td>\n",
       "      <td>Accepted</td>\n",
       "    </tr>\n",
       "    <tr>\n",
       "      <th>421101</th>\n",
       "      <td>3000.0</td>\n",
       "      <td>764.0</td>\n",
       "      <td>0.58</td>\n",
       "      <td>WA</td>\n",
       "      <td>9</td>\n",
       "      <td>major_purchase</td>\n",
       "      <td>Accepted</td>\n",
       "    </tr>\n",
       "    <tr>\n",
       "      <th>...</th>\n",
       "      <td>...</td>\n",
       "      <td>...</td>\n",
       "      <td>...</td>\n",
       "      <td>...</td>\n",
       "      <td>...</td>\n",
       "      <td>...</td>\n",
       "      <td>...</td>\n",
       "    </tr>\n",
       "    <tr>\n",
       "      <th>19698926</th>\n",
       "      <td>3000.0</td>\n",
       "      <td>535.0</td>\n",
       "      <td>1.54</td>\n",
       "      <td>CT</td>\n",
       "      <td>5</td>\n",
       "      <td>Medical expenses</td>\n",
       "      <td>Rejected</td>\n",
       "    </tr>\n",
       "    <tr>\n",
       "      <th>19698936</th>\n",
       "      <td>6000.0</td>\n",
       "      <td>580.0</td>\n",
       "      <td>5.55</td>\n",
       "      <td>TX</td>\n",
       "      <td>0</td>\n",
       "      <td>Car financing</td>\n",
       "      <td>Rejected</td>\n",
       "    </tr>\n",
       "    <tr>\n",
       "      <th>19698996</th>\n",
       "      <td>3000.0</td>\n",
       "      <td>561.0</td>\n",
       "      <td>0.00</td>\n",
       "      <td>OR</td>\n",
       "      <td>0</td>\n",
       "      <td>Debt consolidation</td>\n",
       "      <td>Rejected</td>\n",
       "    </tr>\n",
       "    <tr>\n",
       "      <th>19699052</th>\n",
       "      <td>2500.0</td>\n",
       "      <td>573.0</td>\n",
       "      <td>8.55</td>\n",
       "      <td>NY</td>\n",
       "      <td>0</td>\n",
       "      <td>Other</td>\n",
       "      <td>Rejected</td>\n",
       "    </tr>\n",
       "    <tr>\n",
       "      <th>19699073</th>\n",
       "      <td>2500.0</td>\n",
       "      <td>567.0</td>\n",
       "      <td>0.00</td>\n",
       "      <td>AL</td>\n",
       "      <td>2</td>\n",
       "      <td>Car financing</td>\n",
       "      <td>Rejected</td>\n",
       "    </tr>\n",
       "  </tbody>\n",
       "</table>\n",
       "<p>1081520 rows × 7 columns</p>\n",
       "</div>"
      ],
      "text/plain": [
       "          Amount_Requested  Risk_Score  debt_to_income_ratio State Emp_length  \\\n",
       "421097              5000.0       669.0                 21.80    OK          8   \n",
       "421098             15000.0       704.0                 18.29    FL          2   \n",
       "421099             11200.0       669.0                 43.97    NH          0   \n",
       "421100             25000.0       669.0                 12.89    AL         10   \n",
       "421101              3000.0       764.0                  0.58    WA          9   \n",
       "...                    ...         ...                   ...   ...        ...   \n",
       "19698926            3000.0       535.0                  1.54    CT          5   \n",
       "19698936            6000.0       580.0                  5.55    TX          0   \n",
       "19698996            3000.0       561.0                  0.00    OR          0   \n",
       "19699052            2500.0       573.0                  8.55    NY          0   \n",
       "19699073            2500.0       567.0                  0.00    AL          2   \n",
       "\n",
       "                     Purpose Loan_Status  \n",
       "421097                 other    Accepted  \n",
       "421098    debt_consolidation    Accepted  \n",
       "421099               medical    Accepted  \n",
       "421100    debt_consolidation    Accepted  \n",
       "421101        major_purchase    Accepted  \n",
       "...                      ...         ...  \n",
       "19698926    Medical expenses    Rejected  \n",
       "19698936       Car financing    Rejected  \n",
       "19698996  Debt consolidation    Rejected  \n",
       "19699052               Other    Rejected  \n",
       "19699073       Car financing    Rejected  \n",
       "\n",
       "[1081520 rows x 7 columns]"
      ]
     },
     "execution_count": 35,
     "metadata": {},
     "output_type": "execute_result"
    }
   ],
   "source": [
    "combined_results"
   ]
  },
  {
   "cell_type": "code",
   "execution_count": 36,
   "metadata": {},
   "outputs": [],
   "source": [
    "# write to CSV to save space for working model Model_1 - ACC_REJ\n",
    "combined_results.to_csv('Model_1 - ACC_REJ/combined_results.csv',index=False)"
   ]
  }
 ],
 "metadata": {
  "kernelspec": {
   "display_name": "Python 3",
   "language": "python",
   "name": "python3"
  },
  "language_info": {
   "codemirror_mode": {
    "name": "ipython",
    "version": 3
   },
   "file_extension": ".py",
   "mimetype": "text/x-python",
   "name": "python",
   "nbconvert_exporter": "python",
   "pygments_lexer": "ipython3",
   "version": "3.8.5"
  }
 },
 "nbformat": 4,
 "nbformat_minor": 5
}
